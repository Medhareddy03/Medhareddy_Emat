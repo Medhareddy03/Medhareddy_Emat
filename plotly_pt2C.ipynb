{
 "cells": [
  {
   "cell_type": "code",
   "execution_count": null,
   "id": "27dd6521-40ca-4989-bcd9-1b54d42acd11",
   "metadata": {},
   "outputs": [],
   "source": [
    "import pandas as pd\n",
    "import plotly.graph_objects as go"
   ]
  },
  {
   "cell_type": "code",
   "execution_count": null,
   "id": "2eeb73c2-0ee8-49dc-a65c-32ad92751186",
   "metadata": {},
   "outputs": [],
   "source": [
    "meteor=pd.read_csv('Meteorite_Landings_Sample.csv')\n",
    "meteor.head()"
   ]
  },
  {
   "cell_type": "code",
   "execution_count": null,
   "id": "cf70699c-fe58-422f-9f6d-6aa4449e6d78",
   "metadata": {},
   "outputs": [],
   "source": [
    "meteor.index"
   ]
  },
  {
   "cell_type": "code",
   "execution_count": null,
   "id": "bc1dc3ff-3c3c-4c49-9c87-18e57c2c23da",
   "metadata": {},
   "outputs": [],
   "source": [
    "fig1=go.Figure(data=go.Scattergeo(\n",
    "    lon=meteor['reclong'],\n",
    "    lat=meteor['reclat'],\n",
    "    mode='markers',\n",
    "))\n",
    "\n",
    "fig1.update_layout(\n",
    "    title='Meteorite Landings',\n",
    "    geo_scope='world',\n",
    ")\n",
    "fig1.show()"
   ]
  },
  {
   "cell_type": "code",
   "execution_count": null,
   "id": "1292be7c-40e5-4588-9cd9-8e57d6762b4b",
   "metadata": {},
   "outputs": [],
   "source": [
    "fig2=go.Figure(data=go.Scattergeo(\n",
    "    lon=meteor['reclong'],\n",
    "    lat=meteor['reclat'],\n",
    "    mode='markers',\n",
    "    marker=dict(\n",
    "        size=8,\n",
    "        opacity=0.8,\n",
    "        symbol='star-diamond',\n",
    "        color='red'\n",
    "    )\n",
    "))\n",
    "fig2.update_geos(projection_type='equirectangular')\n",
    "\n",
    "fig2.update_layout(\n",
    "    title='Meteorite Landings',\n",
    "    geo_scope='world',\n",
    ")\n",
    "fig2.show()"
   ]
  },
  {
   "cell_type": "code",
   "execution_count": null,
   "id": "806d6d91-9459-480a-b882-034d98503332",
   "metadata": {},
   "outputs": [],
   "source": [
    "fig3=go.Figure(data=go.Scattergeo(\n",
    "    lon=meteor['reclong'],\n",
    "    lat=meteor['reclat'],\n",
    "    mode='markers',\n",
    "    marker=dict(\n",
    "        size=8,\n",
    "        opacity=0.8,\n",
    "        reversescale=True,\n",
    "        autocolorscale=False,\n",
    "        colorscale='electric',\n",
    "        symbol='circle',\n",
    "        color=meteor['mass (g)'],\n",
    "        colorbar=dict(\n",
    "            title=dict(\n",
    "                text='Meteorite Mass (g)'\n",
    "            )\n",
    "        )\n",
    "    )\n",
    "))\n",
    "fig3.update_geos(\n",
    "    projection_type='equirectangular',\n",
    "    showland=True,landcolor='green',\n",
    "    showocean=True,oceancolor='lightblue',\n",
    "    showlakes=True,lakecolor='white',\n",
    "    showrivers=True,rivercolor='darkblue'\n",
    ")\n",
    "\n",
    "fig3.update_layout(\n",
    "    title='Meteorite Landings',\n",
    "    geo_scope='world',\n",
    ")\n",
    "fig3.show()"
   ]
  },
  {
   "cell_type": "code",
   "execution_count": null,
   "id": "baa85bb1-4e73-47e2-84a6-14876f4d24a6",
   "metadata": {},
   "outputs": [],
   "source": [
    "fig4=go.Figure(data=go.Scattergeo(\n",
    "    lon=meteor['reclong'],\n",
    "    lat=meteor['reclat'],\n",
    "    mode='markers',\n",
    "    marker=dict(\n",
    "        size=8,\n",
    "        opacity=0.8,\n",
    "        reversescale=True,\n",
    "        autocolorscale=False,\n",
    "        colorscale='electric',\n",
    "        symbol='circle',\n",
    "        color=meteor['mass (g)'],\n",
    "        colorbar=dict(\n",
    "            title=dict(\n",
    "                text='Meteorite Mass (g)'\n",
    "            )\n",
    "        )\n",
    "    )\n",
    "))\n",
    "fig4.update_geos(\n",
    "    projection_type='natural earth',\n",
    "    showland=True,landcolor='green',\n",
    "    showocean=True,oceancolor='lightblue',\n",
    "    showlakes=True,lakecolor='white',\n",
    "    showrivers=True,rivercolor='darkblue'\n",
    ")\n",
    "\n",
    "fig4.update_layout(\n",
    "    title='Meteorite Landings',\n",
    "    geo_scope='world',\n",
    ")\n",
    "fig4.show()"
   ]
  },
  {
   "cell_type": "code",
   "execution_count": null,
   "id": "62d8fd55-93bc-42c8-bea1-c24ef5064f11",
   "metadata": {},
   "outputs": [],
   "source": [
    "fig5 = go.Figure()\n",
    "\n",
    "fig5.add_trace(\n",
    "    go.Scattergeo(\n",
    "    lon=meteor['reclong'],\n",
    "    lat=meteor['reclat'],\n",
    "    mode='markers',\n",
    "    marker=dict(\n",
    "        size=8,\n",
    "        opacity=0.8,\n",
    "        reversescale=True,\n",
    "        autocolorscale=False,\n",
    "        colorscale='electric',\n",
    "        symbol='circle',\n",
    "        color=meteor['mass (g)'],\n",
    "        colorbar=dict(\n",
    "            title=dict(\n",
    "                text='Meteorite Mass (g)'\n",
    "            )\n",
    "        )\n",
    "    )\n",
    "))\n",
    "\n",
    "fig5.update_geos(\n",
    "    projection_type='equirectangular',\n",
    "    showland=True,landcolor='green',\n",
    "    showocean=True,oceancolor='lightblue',\n",
    "    showlakes=True,lakecolor='white',\n",
    "    showrivers=True,rivercolor='darkblue'\n",
    ")\n",
    "\n",
    "button1={\n",
    "    'args':[{'geo':{'projection':{'type':'equirectangular'}}}],\n",
    "    'label':'Map',\n",
    "    'method':'relayout'\n",
    "}\n",
    "button2={\n",
    "    'args':[{'geo':{'projection':{'type':'orthographic'}}}],\n",
    "    'label':'Globe',\n",
    "    'method':'relayout'\n",
    "}\n",
    "fig5.update_layout(\n",
    "    title='Meteorite Landings',\n",
    "    geo_scope='world',\n",
    "    updatemenus=[\n",
    "        dict(\n",
    "            buttons=[button1,button2],\n",
    "            direction='down',\n",
    "            x=0.1,\n",
    "            xanchor='left',\n",
    "            y=1.1,\n",
    "            yanchor='top'\n",
    "        )\n",
    "    ]\n",
    ")\n",
    "fig5.show()\n"
   ]
  },
  {
   "cell_type": "code",
   "execution_count": null,
   "id": "d6903f82-4aec-4ae2-9323-8893e39427f3",
   "metadata": {},
   "outputs": [],
   "source": [
    "meteor.columns=[col.replace('mass (g)','mass')for col in meteor.columns]\n",
    "fig6=go.Figure()\n",
    "\n",
    "fig6.add_trace(\n",
    "    go.Bar(\n",
    "        x=meteor.year,y=meteor.mass\n",
    "    )\n",
    ")\n",
    "fig6.update_layout(\n",
    "    title_text='Meteors Mass by Year'\n",
    ")\n",
    "fig6.show()"
   ]
  },
  {
   "cell_type": "code",
   "execution_count": null,
   "id": "0c3874ba-0e4f-4513-afec-812eaf4d13cd",
   "metadata": {},
   "outputs": [],
   "source": [
    "fig6=go.Figure()\n",
    "\n",
    "fig6.add_trace(\n",
    "    go.Bar(\n",
    "        x=meteor.year,y=meteor.mass\n",
    "    )\n",
    ")\n",
    "fig6.update_layout(\n",
    "    title_text='Meteors Mass by Year'\n",
    ")\n",
    "fig6.update_layout(\n",
    "    xaxis=dict(\n",
    "        rangeslider=dict(\n",
    "            visible=True\n",
    "        ),\n",
    "        type='date'\n",
    "    )\n",
    ")\n",
    "fig6.show()"
   ]
  },
  {
   "cell_type": "code",
   "execution_count": null,
   "id": "34c937bc-ed08-4008-be5a-908ee318aaef",
   "metadata": {},
   "outputs": [],
   "source": [
    "list(meteor['recclass'].unique())"
   ]
  },
  {
   "cell_type": "code",
   "execution_count": null,
   "id": "b74a85a5-aa36-4e0b-a0b8-b186da329bc2",
   "metadata": {},
   "outputs": [],
   "source": [
    "re_list=list(meteor['recclass'].unique())\n",
    "re_list"
   ]
  },
  {
   "cell_type": "code",
   "execution_count": null,
   "id": "c6a769de-3a27-439a-bf00-c5b53d348699",
   "metadata": {},
   "outputs": [],
   "source": [
    "meteor[meteor['recclass']=='L5']['mass']"
   ]
  },
  {
   "cell_type": "code",
   "execution_count": null,
   "id": "099f0c2b-e1e8-4610-80b0-9e1459254b15",
   "metadata": {},
   "outputs": [],
   "source": []
  },
  {
   "cell_type": "code",
   "execution_count": null,
   "id": "144c49af-73f1-4a98-b3dd-c076a290f8f6",
   "metadata": {},
   "outputs": [],
   "source": []
  },
  {
   "cell_type": "code",
   "execution_count": null,
   "id": "235f642c-ef92-4ec1-a503-ceaf281cba1f",
   "metadata": {},
   "outputs": [],
   "source": []
  },
  {
   "cell_type": "code",
   "execution_count": null,
   "id": "0f200ce3-d0be-4c1b-bdb3-afbd9c9c8ff0",
   "metadata": {},
   "outputs": [],
   "source": []
  },
  {
   "cell_type": "code",
   "execution_count": null,
   "id": "402f742d-5d2f-4b3f-b9cf-0e6bea9c2473",
   "metadata": {},
   "outputs": [],
   "source": []
  },
  {
   "cell_type": "code",
   "execution_count": null,
   "id": "3b68cd61-0351-4fd4-ae5a-e66b41c99981",
   "metadata": {},
   "outputs": [],
   "source": []
  }
 ],
 "metadata": {
  "kernelspec": {
   "display_name": "Python 3 (ipykernel)",
   "language": "python",
   "name": "python3"
  },
  "language_info": {
   "codemirror_mode": {
    "name": "ipython",
    "version": 3
   },
   "file_extension": ".py",
   "mimetype": "text/x-python",
   "name": "python",
   "nbconvert_exporter": "python",
   "pygments_lexer": "ipython3",
   "version": "3.12.8"
  }
 },
 "nbformat": 4,
 "nbformat_minor": 5
}
