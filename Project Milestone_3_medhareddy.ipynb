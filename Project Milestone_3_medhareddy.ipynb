{
 "cells": [
  {
   "cell_type": "code",
   "execution_count": 9,
   "id": "26ab3d2e-17a7-44cd-b5a3-6556c2871da4",
   "metadata": {},
   "outputs": [],
   "source": [
    "import pandas as pd\n",
    "import plotly.express as px\n",
    "import plotly.graph_objects as go\n",
    "import matplotlib.pyplot as plt"
   ]
  },
  {
   "cell_type": "code",
   "execution_count": 10,
   "id": "67322653-4e3b-47c1-aa97-39daa750ee10",
   "metadata": {},
   "outputs": [],
   "source": [
    "df = pd.read_csv('combined_file_with_year.csv')"
   ]
  },
  {
   "cell_type": "code",
   "execution_count": 11,
   "id": "fc58ae5a-33b4-4e82-ac93-4f765aaaffd0",
   "metadata": {},
   "outputs": [
    {
     "data": {
      "text/plain": [
       "Country                                              object\n",
       "Preservation Requests                                object\n",
       "Preservation Accounts Preserved                      object\n",
       "Total Requests                                       object\n",
       "Number of Requests Where Some Data Produced          object\n",
       "Total Requests Accounts                              object\n",
       "Total Requests Percentage                            object\n",
       "Legal Process Request Total                          object\n",
       "Legal Number of Requests Where Some Data Produced    object\n",
       "Legal Process Request Total Accounts                 object\n",
       "Legal Process Request Total Percentage               object\n",
       "Emergency Request Total                              object\n",
       "ER Number of Requests Where Some Data Produced       object\n",
       "Emergency Request Total Accounts                     object\n",
       "Emergency Request Total Percentage                   object\n",
       "Year                                                  int64\n",
       "dtype: object"
      ]
     },
     "execution_count": 11,
     "metadata": {},
     "output_type": "execute_result"
    }
   ],
   "source": [
    "df.dtypes"
   ]
  },
  {
   "cell_type": "code",
   "execution_count": 12,
   "id": "b7abb884-1d3d-47af-b2a0-1c738e1a4007",
   "metadata": {},
   "outputs": [
    {
     "data": {
      "text/plain": [
       "Country                                               object\n",
       "Preservation Requests                                  int64\n",
       "Preservation Accounts Preserved                        int64\n",
       "Total Requests                                         int64\n",
       "Number of Requests Where Some Data Produced            int64\n",
       "Total Requests Accounts                                int64\n",
       "Total Requests Percentage                            float64\n",
       "Legal Process Request Total                            int64\n",
       "Legal Number of Requests Where Some Data Produced      int64\n",
       "Legal Process Request Total Accounts                   int64\n",
       "Legal Process Request Total Percentage               float64\n",
       "Emergency Request Total                                int64\n",
       "ER Number of Requests Where Some Data Produced         int64\n",
       "Emergency Request Total Accounts                       int64\n",
       "Emergency Request Total Percentage                   float64\n",
       "Year                                                   int64\n",
       "dtype: object"
      ]
     },
     "execution_count": 12,
     "metadata": {},
     "output_type": "execute_result"
    }
   ],
   "source": [
    "number_columns = [\n",
    "    \"Preservation Requests\",\n",
    "    \"Preservation Accounts Preserved\",\n",
    "    \"Total Requests\",\n",
    "    \"Number of Requests Where Some Data Produced\",\n",
    "    \"Total Requests Accounts\",\n",
    "    \"Legal Process Request Total\",\n",
    "    \"Legal Number of Requests Where Some Data Produced\",\n",
    "    \"Legal Process Request Total Accounts\",\n",
    "    \"Emergency Request Total\",\n",
    "    \"ER Number of Requests Where Some Data Produced\",\n",
    "    \"Emergency Request Total Accounts\"\n",
    "]\n",
    "\n",
    "for col in number_columns:\n",
    "    df[col] = df[col].astype(str)              \n",
    "    df[col] = df[col].str.replace(',', '')     \n",
    "    df[col] = df[col].astype(float)             \n",
    "    df[col] = df[col].fillna(0).astype(int)    \n",
    "\n",
    "percent_columns = [\n",
    "    \"Total Requests Percentage\",\n",
    "    \"Legal Process Request Total Percentage\",\n",
    "    \"Emergency Request Total Percentage\"\n",
    "]\n",
    "\n",
    "for col in percent_columns:\n",
    "    df[col] = df[col].astype(str)              \n",
    "    df[col] = df[col].str.replace('%', '')     \n",
    "    df[col] = df[col].astype(float)       \n",
    "df.dtypes"
   ]
  },
  {
   "cell_type": "markdown",
   "id": "c35928df-0674-4619-90f6-d8a7755c3e66",
   "metadata": {},
   "source": [
    "**In Milestone 2, I had a problem with the line graph the x-axis was not showing clean years like 2020, 2021, and 2022, but it showing values like 2020, 2020.5, and 2021, 2021.5 etc. To better arrange the data, I thought about using the melt() function, but I wasn't sure if it would address the axis issueI decided to fix it in the next milestone and started thinking about adding dashboards too. In this milestone, I solved the x-axis issue by using update_layout() to manually set the tick values and labels. After fixing it, I created a line plot to show how different types of requests — Legal Process, Emergency, and Preservation — changed over time. I grouped the data by year, added markers to highlight each point clearly, and used a clean background and gridlines to make trends easier to see. My goal was to help the audience quickly spot patterns, like which request types are increasing faster or where sudden changes happened. i took reference from this link https://plotly.com/python/tick-formatting/#:~:text=80-,Tickmode%20%2D%20Array,-If%20%22array%22.**"
   ]
  },
  {
   "cell_type": "code",
   "execution_count": null,
   "id": "d436e6d9-fc3b-410f-8963-d972aa7ec811",
   "metadata": {},
   "outputs": [],
   "source": [
    "request_types = df.groupby(\"Year\")[\n",
    "    [\"Legal Process Request Total\", \"Emergency Request Total\", \"Preservation Requests\"]\n",
    "].sum().reset_index()\n",
    "\n",
    "fig = px.line(\n",
    "    request_types,\n",
    "    x=\"Year\",\n",
    "    y=[\"Legal Process Request Total\", \"Emergency Request Total\", \"Preservation Requests\"],\n",
    "    markers=True,\n",
    "    title=\"Request Types Over the Years\"\n",
    ")\n",
    "\n",
    "fig.update_layout(\n",
    "    xaxis=dict(\n",
    "        tickmode='array',\n",
    "        tickvals=request_types['Year'],\n",
    "        ticktext=[str(year) for year in request_types['Year']],\n",
    "        title=\"Year\",\n",
    "        showgrid=True,           \n",
    "        gridcolor='white'      \n",
    "    ),\n",
    "    yaxis=dict(\n",
    "        title=\"Total Requests\",\n",
    "        showgrid=True,            \n",
    "        gridcolor='white'     \n",
    "    ),\n",
    "    plot_bgcolor=\"lightgrey\",\n",
    "    title_x=0.5,\n",
    "    font=dict(size=14),\n",
    "    legend_title_text=\"Request Type\"\n",
    ")\n",
    "\n",
    "fig.show()"
   ]
  },
  {
   "cell_type": "markdown",
   "id": "6b3b35d3-eb15-45c9-9608-e6f4e05926ab",
   "metadata": {},
   "source": [
    "**I created a line plot because I wanted to show how different types of requests:-Legal Process Requests, Emergency Requests, and Preservation Requests,have changed over time. To do this, I grouped the data by year and summed the totals for each request type.I used markers on the lines to make it easier for the audience to see each data point clearly. I also added a light grey background and grid lines to make the chart easier to read. Here,my goal is to help the audience quickly spot trends over the years, such as which request types are growing faster or if any sudden jumps happen.**"
   ]
  },
  {
   "cell_type": "markdown",
   "id": "a9bcaf62-20ab-4788-8dcf-dc108e2e89c4",
   "metadata": {},
   "source": [
    "**In this step, I made sure that the *'Total Requests'* column was in the correct numeric format. This is important because sometimes the data might be stored as text, and converting it to numeric ensures that calculations (like sums) are done correctly when visualizing the data.**"
   ]
  },
  {
   "cell_type": "code",
   "execution_count": 13,
   "id": "3cc0c0ea-6f45-40e5-9b86-22974a37895e",
   "metadata": {},
   "outputs": [],
   "source": [
    "df['Total Requests'] = pd.to_numeric(df['Total Requests'])"
   ]
  },
  {
   "cell_type": "markdown",
   "id": "bf6acedd-1198-403f-a600-ecfdbce5d82d",
   "metadata": {},
   "source": [
    "**Next,I wanted to show which countries received the most total requests.I summed the total number of requests for each country and used a choropleth map to visualize it.I chose a blue color scale where darker shades represent more requests. Here, I wanted give the audience a quick, intuitive feel for the global distribution of requests highlighting the countries with the heaviest activity.**"
   ]
  },
  {
   "cell_type": "code",
   "execution_count": null,
   "id": "c5e9385e-75f0-432e-8c04-dbc20ba94307",
   "metadata": {},
   "outputs": [],
   "source": [
    "country_requests = df.groupby('Country')[\"Total Requests\"].sum().reset_index()\n",
    "\n",
    "fig_map = px.choropleth(\n",
    "    country_requests,\n",
    "    locations=\"Country\",\n",
    "    locationmode=\"country names\",\n",
    "    color=\"Total Requests\",\n",
    "    color_continuous_scale=\"Blues\",\n",
    "    title=\"Total Requests by Country (All Years Combined)\",\n",
    ")\n",
    "\n",
    "fig_map.update_layout(\n",
    "    geo=dict(showframe=False, showcoastlines=True)\n",
    ")\n",
    "\n",
    "fig_map.show()\n"
   ]
  },
  {
   "cell_type": "markdown",
   "id": "b82c14d0-5661-431a-bbdc-827d2ba23680",
   "metadata": {},
   "source": [
    "**After showing total volume by country, I wanted to dig a little deeper, Which type of request is more dominant in each country? To do this, I grouped the data by country and request type (Preservation, Legal Process, Emergency), then used an animated choropleth map where the audience can switch between request types. I want to make the audience explore how different request types are distributed globally, and easily spot patterns depending on the request type.**"
   ]
  },
  {
   "cell_type": "code",
   "execution_count": null,
   "id": "eada19ae-9947-4f31-99f8-8b3774c9cf02",
   "metadata": {},
   "outputs": [],
   "source": [
    "for col in [\"Preservation Requests\", \"Legal Process Request Total\", \"Emergency Request Total\"]:\n",
    "    df[col] = pd.to_numeric(df[col])\n",
    "\n",
    "country_requests = df.groupby('Country')[\n",
    "    [\"Preservation Requests\", \"Legal Process Request Total\", \"Emergency Request Total\"]\n",
    "].sum().reset_index()\n",
    "\n",
    "country_requests_melted = country_requests.melt(\n",
    "    id_vars=\"Country\",\n",
    "    var_name=\"Request Type\",\n",
    "    value_name=\"Total\"\n",
    ")\n",
    "\n",
    "fig = px.choropleth(\n",
    "    country_requests_melted,\n",
    "    locations=\"Country\",\n",
    "    locationmode=\"country names\",\n",
    "    color=\"Total\",\n",
    "    color_continuous_scale=\"Blues\",\n",
    "    title=\"Requests by Country and Type\",\n",
    "    animation_frame=\"Request Type\" \n",
    ")\n",
    "fig.update_layout(\n",
    "    geo=dict(showframe=False, showcoastlines=True),\n",
    "    title_x=0.5\n",
    ")\n",
    "\n",
    "fig.show()"
   ]
  },
  {
   "cell_type": "markdown",
   "id": "efbd0d59-4183-4b77-8dfd-dd790fa863b3",
   "metadata": {},
   "source": [
    "**Then, I wanted to add the dimension of time into the global map.I grouped the data by both country and year, and created an animated choropleth map.Each frame shows how the total requests change across countries year by year.**"
   ]
  },
  {
   "cell_type": "code",
   "execution_count": null,
   "id": "e30a1117-e6f5-4907-9010-f7b85f35432a",
   "metadata": {},
   "outputs": [],
   "source": [
    "df['Total Requests'] = pd.to_numeric(df['Total Requests'])\n",
    "\n",
    "country_year_requests = df.groupby(['Year', 'Country'])['Total Requests'].sum().reset_index()\n",
    "\n",
    "fig = px.choropleth(\n",
    "    country_year_requests,\n",
    "    locations=\"Country\",\n",
    "    locationmode=\"country names\",\n",
    "    color=\"Total Requests\",\n",
    "    animation_frame=\"Year\",\n",
    "    color_continuous_scale=\"Blues\",\n",
    "    title=\"Total Requests by Country Over the Years\",\n",
    ")\n",
    "\n",
    "fig.update_layout(\n",
    "    geo=dict(showframe=False, showcoastlines=True),\n",
    "    title_x=0.5\n",
    ")\n",
    "\n",
    "fig.show()"
   ]
  },
  {
   "cell_type": "markdown",
   "id": "b7d03094-a708-4821-84a9-0e7a8a875f99",
   "metadata": {},
   "source": [
    "**At this stage, I was interested in expanding the image and provide a closer look at a few key countries. I chose ten countries, including the US, India, Germany, Japan, and others, rather than displaying every nation, which could be overwhelming. I decided on a heatmap since it's great for quickly identifying patterns.After that, I used a pivot_table() to organize the data into a grid with countries as rows, years as columns, and total requests as the values. This made it easy to plot in the heatmap format, where I could see at a glance which countries and years had higher or lower requests based on the color scale.This visual makes it really easy for the audience to immediately see which countries had spikes in requests, which stayed steady, and which ones suddenly dropped off. Let the audience quickly compare countries side by side over the years, and spot interesting patterns like sudden surges, consistent growth, or unexpected drops. For Color code 'RdYlBu_r' I took help of google**"
   ]
  },
  {
   "cell_type": "code",
   "execution_count": null,
   "id": "1b90c7f5-049b-4780-9c2a-ccd9f4ab1ff6",
   "metadata": {},
   "outputs": [],
   "source": [
    "selected_countries = ['Australia', 'Brazil', 'Canada', 'France', 'Germany', \n",
    "                      'India', 'Japan', 'South Korea', 'United Kingdom', 'United States']\n",
    "\n",
    "df_selected = df[df['Country'].isin(selected_countries)]\n",
    "\n",
    "heatmap_data = df_selected.pivot_table(\n",
    "    index='Country',\n",
    "    columns='Year',\n",
    "    values='Total Requests',\n",
    "    aggfunc='sum'\n",
    ")\n",
    "\n",
    "fig_heatmap = px.imshow(\n",
    "    heatmap_data,\n",
    "    labels=dict(x=\"Year\", y=\"Country\", color=\"Total Requests\"),\n",
    "    color_continuous_scale='RdYlBu_r', \n",
    "    title='Heatmap of Total Requests by Country and Year'\n",
    ")\n",
    "\n",
    "fig_heatmap.update_layout(\n",
    "    title_x=0.5,\n",
    "    xaxis_title=\"Year\",\n",
    "    yaxis_title=\"Country\"\n",
    ")\n",
    "\n",
    "fig_heatmap.show()"
   ]
  },
  {
   "cell_type": "markdown",
   "id": "31608463-b49f-4b2d-9e4f-8440bfa86f20",
   "metadata": {},
   "source": [
    "**Here,I sorted country_totals by 'Total Requests' using ascending=True because I wanted the countries with the smallest number of requests to show up first. This way, when I plot the heatmap, it's easier for people to read from countries with fewer requests at the top to countries with more requests at the bottom, making the whole chart look more organized and clear.**"
   ]
  },
  {
   "cell_type": "code",
   "execution_count": null,
   "id": "a8175ca1-a46f-4384-8005-099bcafaf1cd",
   "metadata": {},
   "outputs": [],
   "source": [
    "selected_countries = ['Australia', 'Brazil', 'Canada', 'France', 'Germany', \n",
    "                      'India', 'Japan', 'South Korea', 'United Kingdom', 'United States']\n",
    "\n",
    "df_selected = df[df['Country'].isin(selected_countries)]\n",
    "\n",
    "country_totals = df_selected.groupby('Country')['Total Requests'].sum().reset_index()\n",
    "\n",
    "country_totals = country_totals.sort_values(by='Total Requests', ascending=True)\n",
    "\n",
    "sorted_countries = country_totals['Country'].tolist()\n",
    "\n",
    "heatmap_data = df_selected.pivot_table(\n",
    "    index='Country',\n",
    "    columns='Year',\n",
    "    values='Total Requests',\n",
    "    aggfunc='sum'\n",
    ")\n",
    "\n",
    "heatmap_data = heatmap_data.loc[sorted_countries]\n",
    "\n",
    "\n",
    "fig_heatmap = px.imshow(\n",
    "    heatmap_data,\n",
    "    labels=dict(x=\"Year\", y=\"Country\", color=\"Total Requests\"),\n",
    "    color_continuous_scale='RdYlBu_r',\n",
    "    title='Heatmap of Total Requests by Country and Year'\n",
    ")\n",
    "\n",
    "fig_heatmap.update_layout(\n",
    "    title_x=0.5,\n",
    "    xaxis_title=\"Year\",\n",
    "    yaxis_title=\"Country\"\n",
    ")\n",
    "\n",
    "fig_heatmap.show()"
   ]
  },
  {
   "cell_type": "markdown",
   "id": "7049f9cb-b566-4efc-b22e-7e63cf670262",
   "metadata": {},
   "source": [
    "**I am happy with how my third milestone turned out. The plots are clearer and more organized compared to earlier versions, and I was able to fix issues such as the x-axis formatting in the line graph. I also used new visualizations,such as heatmaps and choropleth maps, to make the data presentation more engaging. Although I think the visualizations are now simpler to understand. Overall, I'm more confident in my ability to work with data and present it effectively. I'll try to create a simple app that combines all of my visualizations and explanations into one interactive space.**"
   ]
  },
  {
   "cell_type": "code",
   "execution_count": null,
   "id": "bce465f3-73d6-4393-a915-31dd36ee6efd",
   "metadata": {},
   "outputs": [],
   "source": []
  }
 ],
 "metadata": {
  "kernelspec": {
   "display_name": "Python 3 (ipykernel)",
   "language": "python",
   "name": "python3"
  },
  "language_info": {
   "codemirror_mode": {
    "name": "ipython",
    "version": 3
   },
   "file_extension": ".py",
   "mimetype": "text/x-python",
   "name": "python",
   "nbconvert_exporter": "python",
   "pygments_lexer": "ipython3",
   "version": "3.12.8"
  }
 },
 "nbformat": 4,
 "nbformat_minor": 5
}
