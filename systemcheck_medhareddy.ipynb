{
 "cells": [
  {
   "cell_type": "markdown",
   "id": "d210890c-18e1-4054-a51d-5f3e6f5ca23f",
   "metadata": {},
   "source": [
    "# Systems Check Assignment\n",
    "## Created by Medha reddy"
   ]
  },
  {
   "cell_type": "markdown",
   "id": "9cc06df5-efa9-4b8e-83b7-b86c13c4ee37",
   "metadata": {},
   "source": [
    "### Purpose: The purpose of this notebook is to verify that my environment is properly configured and to demonstrate basic Python functionality.\n"
   ]
  },
  {
   "cell_type": "markdown",
   "id": "72bf40eb-fa32-4ad6-b11c-efeae44ba193",
   "metadata": {},
   "source": [
    "1. **Understand Python programming better.**\n",
    "   - *Master how to use variables and functions to write clean and efficient code.*\n",
    "   - *Practice creating loops and structures to solve problems more effectively.*\n",
    "\n",
    "2. **Understand how to analyze and work with data.**\n",
    "   - *Become familiar with Jupyter Notebook and other useful tools for data analysis.*\n",
    "   - *Develop better problem-solving skills and learn to approach challenges with a critical mindset.*\n",
    "\n",
    "3. **Gain the confidence to apply Python in real-world situations.**\n",
    "   - *Learn how to use Python for practical projects that solve real-life problems.*"
   ]
  },
  {
   "cell_type": "markdown",
   "id": "a554318f-cdae-4e56-bbf5-4fdbfa724707",
   "metadata": {},
   "source": [
    "![Flag of India](https://upload.wikimedia.org/wikipedia/commons/4/41/Flag_of_India.svg)\n"
   ]
  },
  {
   "cell_type": "code",
   "execution_count": 10,
   "id": "d5925446-d7c2-4fa9-a502-5b0684afeb54",
   "metadata": {},
   "outputs": [
    {
     "name": "stdout",
     "output_type": "stream",
     "text": [
      "Medha 21\n"
     ]
    }
   ],
   "source": [
    "# Here is the code to show Variables\n",
    "name = \"Medha\" \n",
    "age = 21       \n",
    "# Print variables\n",
    "print(name, age)"
   ]
  },
  {
   "cell_type": "code",
   "execution_count": 12,
   "id": "cc24c2b7-d4bc-4299-b65e-35d12ac559e1",
   "metadata": {},
   "outputs": [
    {
     "name": "stdout",
     "output_type": "stream",
     "text": [
      "m\n",
      "e\n",
      "d\n",
      "h\n",
      "a\n"
     ]
    }
   ],
   "source": [
    "# Next, for loop \n",
    "for i in 'medha':\n",
    "    print (i)"
   ]
  },
  {
   "cell_type": "code",
   "execution_count": 22,
   "id": "ee6b6c77-c6b1-4e4d-ba32-823da430bd3c",
   "metadata": {},
   "outputs": [],
   "source": [
    "# function with a print statement \n",
    "def medha ():\n",
    "    print (\"hello how are you doing?\")"
   ]
  },
  {
   "cell_type": "code",
   "execution_count": 23,
   "id": "552845b3-5fb9-4df1-9617-f6fcf9d58778",
   "metadata": {},
   "outputs": [
    {
     "name": "stdout",
     "output_type": "stream",
     "text": [
      "hello how are you doing?\n"
     ]
    }
   ],
   "source": [
    "medha()"
   ]
  },
  {
   "cell_type": "code",
   "execution_count": 24,
   "id": "126fc3e4-ae75-4637-ba4a-9086eddbe758",
   "metadata": {},
   "outputs": [],
   "source": [
    "def medha_1 ():\n",
    "    return \"Hi i am medha\""
   ]
  },
  {
   "cell_type": "code",
   "execution_count": 25,
   "id": "6707949a-7dd0-47b7-860a-719661e11d5a",
   "metadata": {},
   "outputs": [
    {
     "data": {
      "text/plain": [
       "'Hi i am medha'"
      ]
     },
     "execution_count": 25,
     "metadata": {},
     "output_type": "execute_result"
    }
   ],
   "source": [
    "medha_1()"
   ]
  }
 ],
 "metadata": {
  "kernelspec": {
   "display_name": "Python 3 (ipykernel)",
   "language": "python",
   "name": "python3"
  },
  "language_info": {
   "codemirror_mode": {
    "name": "ipython",
    "version": 3
   },
   "file_extension": ".py",
   "mimetype": "text/x-python",
   "name": "python",
   "nbconvert_exporter": "python",
   "pygments_lexer": "ipython3",
   "version": "3.12.8"
  }
 },
 "nbformat": 4,
 "nbformat_minor": 5
}
