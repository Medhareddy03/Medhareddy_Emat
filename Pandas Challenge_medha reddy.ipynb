{
 "cells": [
  {
   "cell_type": "code",
   "execution_count": 59,
   "id": "ce913ca5-ff9f-480a-90dc-deeb25d5f99a",
   "metadata": {},
   "outputs": [],
   "source": [
    "# Importing pandas as pd \n",
    "import pandas as pd"
   ]
  },
  {
   "cell_type": "code",
   "execution_count": 60,
   "id": "d716d189-3b68-4e4e-8488-d875771ff023",
   "metadata": {},
   "outputs": [
    {
     "data": {
      "text/html": [
       "<div>\n",
       "<style scoped>\n",
       "    .dataframe tbody tr th:only-of-type {\n",
       "        vertical-align: middle;\n",
       "    }\n",
       "\n",
       "    .dataframe tbody tr th {\n",
       "        vertical-align: top;\n",
       "    }\n",
       "\n",
       "    .dataframe thead th {\n",
       "        text-align: right;\n",
       "    }\n",
       "</style>\n",
       "<table border=\"1\" class=\"dataframe\">\n",
       "  <thead>\n",
       "    <tr style=\"text-align: right;\">\n",
       "      <th></th>\n",
       "      <th>Names</th>\n",
       "      <th>Hobbies</th>\n",
       "      <th>City</th>\n",
       "    </tr>\n",
       "  </thead>\n",
       "  <tbody>\n",
       "    <tr>\n",
       "      <th>0</th>\n",
       "      <td>Medha</td>\n",
       "      <td>Reading</td>\n",
       "      <td>Hyderabad</td>\n",
       "    </tr>\n",
       "    <tr>\n",
       "      <th>1</th>\n",
       "      <td>Keerthana</td>\n",
       "      <td>Playing</td>\n",
       "      <td>Hyderabad</td>\n",
       "    </tr>\n",
       "    <tr>\n",
       "      <th>2</th>\n",
       "      <td>Harshitha</td>\n",
       "      <td>Cooking</td>\n",
       "      <td>USA</td>\n",
       "    </tr>\n",
       "    <tr>\n",
       "      <th>3</th>\n",
       "      <td>Karthik</td>\n",
       "      <td>Guitar</td>\n",
       "      <td>Hyderabad</td>\n",
       "    </tr>\n",
       "    <tr>\n",
       "      <th>4</th>\n",
       "      <td>Bhanu</td>\n",
       "      <td>Coding</td>\n",
       "      <td>Hyderabad</td>\n",
       "    </tr>\n",
       "    <tr>\n",
       "      <th>5</th>\n",
       "      <td>Mahesh</td>\n",
       "      <td>Dancing</td>\n",
       "      <td>Manipur</td>\n",
       "    </tr>\n",
       "    <tr>\n",
       "      <th>6</th>\n",
       "      <td>Uma</td>\n",
       "      <td>Gym</td>\n",
       "      <td>Vizag</td>\n",
       "    </tr>\n",
       "    <tr>\n",
       "      <th>7</th>\n",
       "      <td>Deepu</td>\n",
       "      <td>Cricket</td>\n",
       "      <td>Guntur</td>\n",
       "    </tr>\n",
       "    <tr>\n",
       "      <th>8</th>\n",
       "      <td>Ricky</td>\n",
       "      <td>Singing</td>\n",
       "      <td>Dallas</td>\n",
       "    </tr>\n",
       "  </tbody>\n",
       "</table>\n",
       "</div>"
      ],
      "text/plain": [
       "       Names  Hobbies       City\n",
       "0      Medha  Reading  Hyderabad\n",
       "1  Keerthana  Playing  Hyderabad\n",
       "2  Harshitha  Cooking        USA\n",
       "3    Karthik   Guitar  Hyderabad\n",
       "4      Bhanu   Coding  Hyderabad\n",
       "5     Mahesh  Dancing    Manipur\n",
       "6        Uma      Gym      Vizag\n",
       "7      Deepu  Cricket     Guntur\n",
       "8      Ricky  Singing     Dallas"
      ]
     },
     "execution_count": 60,
     "metadata": {},
     "output_type": "execute_result"
    }
   ],
   "source": [
    "# 2. Create a DataFrame with three columns and three rows\n",
    "df = pd.DataFrame({\n",
    "    'Names': ['Medha', 'Keerthana', 'Harshitha','Karthik','Bhanu','Mahesh','Uma','Deepu','Ricky'],\n",
    "    'Hobbies': ['Reading', 'Playing', 'Cooking','Guitar','Coding','Dancing','Gym','Cricket','Singing'],\n",
    "    'City': ['Hyderabad', 'Hyderabad', 'USA','Hyderabad','Hyderabad','Manipur','Vizag','Guntur','Dallas']\n",
    "})\n",
    "\n",
    "df\n"
   ]
  },
  {
   "cell_type": "code",
   "execution_count": 61,
   "id": "c5fc7a41-064e-4492-a152-660a2538e58f",
   "metadata": {},
   "outputs": [
    {
     "data": {
      "text/html": [
       "<div>\n",
       "<style scoped>\n",
       "    .dataframe tbody tr th:only-of-type {\n",
       "        vertical-align: middle;\n",
       "    }\n",
       "\n",
       "    .dataframe tbody tr th {\n",
       "        vertical-align: top;\n",
       "    }\n",
       "\n",
       "    .dataframe thead th {\n",
       "        text-align: right;\n",
       "    }\n",
       "</style>\n",
       "<table border=\"1\" class=\"dataframe\">\n",
       "  <thead>\n",
       "    <tr style=\"text-align: right;\">\n",
       "      <th></th>\n",
       "      <th>Names</th>\n",
       "      <th>Hobbies</th>\n",
       "      <th>City</th>\n",
       "    </tr>\n",
       "  </thead>\n",
       "  <tbody>\n",
       "    <tr>\n",
       "      <th>0</th>\n",
       "      <td>Medha</td>\n",
       "      <td>Reading</td>\n",
       "      <td>Hyderabad</td>\n",
       "    </tr>\n",
       "    <tr>\n",
       "      <th>1</th>\n",
       "      <td>Keerthana</td>\n",
       "      <td>Playing</td>\n",
       "      <td>Hyderabad</td>\n",
       "    </tr>\n",
       "    <tr>\n",
       "      <th>2</th>\n",
       "      <td>Harshitha</td>\n",
       "      <td>Cooking</td>\n",
       "      <td>USA</td>\n",
       "    </tr>\n",
       "    <tr>\n",
       "      <th>3</th>\n",
       "      <td>Karthik</td>\n",
       "      <td>Guitar</td>\n",
       "      <td>Hyderabad</td>\n",
       "    </tr>\n",
       "    <tr>\n",
       "      <th>4</th>\n",
       "      <td>Bhanu</td>\n",
       "      <td>Coding</td>\n",
       "      <td>Hyderabad</td>\n",
       "    </tr>\n",
       "  </tbody>\n",
       "</table>\n",
       "</div>"
      ],
      "text/plain": [
       "       Names  Hobbies       City\n",
       "0      Medha  Reading  Hyderabad\n",
       "1  Keerthana  Playing  Hyderabad\n",
       "2  Harshitha  Cooking        USA\n",
       "3    Karthik   Guitar  Hyderabad\n",
       "4      Bhanu   Coding  Hyderabad"
      ]
     },
     "execution_count": 61,
     "metadata": {},
     "output_type": "execute_result"
    }
   ],
   "source": [
    "# 3. view the head of the DataFrame\n",
    "df.head()"
   ]
  },
  {
   "cell_type": "code",
   "execution_count": 62,
   "id": "79f0d3ef-dca4-44d7-838d-95439b42f13d",
   "metadata": {},
   "outputs": [
    {
     "data": {
      "text/plain": [
       "RangeIndex(start=0, stop=9, step=1)"
      ]
     },
     "execution_count": 62,
     "metadata": {},
     "output_type": "execute_result"
    }
   ],
   "source": [
    "# 4. view the index of the DataFrame\n",
    "df.index"
   ]
  },
  {
   "cell_type": "code",
   "execution_count": 63,
   "id": "d5a2d35b-43a5-42c6-9df8-dfd1b10a1848",
   "metadata": {},
   "outputs": [
    {
     "data": {
      "text/plain": [
       "Names          Medha\n",
       "Hobbies      Reading\n",
       "City       Hyderabad\n",
       "Name: 0, dtype: object"
      ]
     },
     "execution_count": 63,
     "metadata": {},
     "output_type": "execute_result"
    }
   ],
   "source": [
    "# 5. Select and view only the first row of the DataFrame\n",
    "df.iloc[0]"
   ]
  },
  {
   "cell_type": "code",
   "execution_count": 64,
   "id": "7bba5b8c-08bf-4cec-8e8a-16d7de12112b",
   "metadata": {},
   "outputs": [
    {
     "data": {
      "text/html": [
       "<div>\n",
       "<style scoped>\n",
       "    .dataframe tbody tr th:only-of-type {\n",
       "        vertical-align: middle;\n",
       "    }\n",
       "\n",
       "    .dataframe tbody tr th {\n",
       "        vertical-align: top;\n",
       "    }\n",
       "\n",
       "    .dataframe thead th {\n",
       "        text-align: right;\n",
       "    }\n",
       "</style>\n",
       "<table border=\"1\" class=\"dataframe\">\n",
       "  <thead>\n",
       "    <tr style=\"text-align: right;\">\n",
       "      <th></th>\n",
       "      <th>Names</th>\n",
       "      <th>Hobbies</th>\n",
       "      <th>City</th>\n",
       "    </tr>\n",
       "  </thead>\n",
       "  <tbody>\n",
       "    <tr>\n",
       "      <th>2</th>\n",
       "      <td>Harshitha</td>\n",
       "      <td>Cooking</td>\n",
       "      <td>USA</td>\n",
       "    </tr>\n",
       "    <tr>\n",
       "      <th>3</th>\n",
       "      <td>Karthik</td>\n",
       "      <td>Guitar</td>\n",
       "      <td>Hyderabad</td>\n",
       "    </tr>\n",
       "    <tr>\n",
       "      <th>4</th>\n",
       "      <td>Bhanu</td>\n",
       "      <td>Coding</td>\n",
       "      <td>Hyderabad</td>\n",
       "    </tr>\n",
       "    <tr>\n",
       "      <th>5</th>\n",
       "      <td>Mahesh</td>\n",
       "      <td>Dancing</td>\n",
       "      <td>Manipur</td>\n",
       "    </tr>\n",
       "  </tbody>\n",
       "</table>\n",
       "</div>"
      ],
      "text/plain": [
       "       Names  Hobbies       City\n",
       "2  Harshitha  Cooking        USA\n",
       "3    Karthik   Guitar  Hyderabad\n",
       "4      Bhanu   Coding  Hyderabad\n",
       "5     Mahesh  Dancing    Manipur"
      ]
     },
     "execution_count": 64,
     "metadata": {},
     "output_type": "execute_result"
    }
   ],
   "source": [
    "df.iloc[2:6]"
   ]
  },
  {
   "cell_type": "code",
   "execution_count": 65,
   "id": "63d14cfd-e029-4918-acc2-1a0f7d3fa8c4",
   "metadata": {},
   "outputs": [
    {
     "data": {
      "text/plain": [
       "0        Medha\n",
       "1    Keerthana\n",
       "2    Harshitha\n",
       "3      Karthik\n",
       "4        Bhanu\n",
       "5       Mahesh\n",
       "6          Uma\n",
       "7        Deepu\n",
       "8        Ricky\n",
       "Name: Names, dtype: object"
      ]
     },
     "execution_count": 65,
     "metadata": {},
     "output_type": "execute_result"
    }
   ],
   "source": [
    "# 6. select and view only the first column of the DataFrame\n",
    "df['Names']"
   ]
  },
  {
   "cell_type": "code",
   "execution_count": 66,
   "id": "a8cd0cb4-8f9a-450e-9d52-c4d5580bfe66",
   "metadata": {},
   "outputs": [
    {
     "data": {
      "text/html": [
       "<div>\n",
       "<style scoped>\n",
       "    .dataframe tbody tr th:only-of-type {\n",
       "        vertical-align: middle;\n",
       "    }\n",
       "\n",
       "    .dataframe tbody tr th {\n",
       "        vertical-align: top;\n",
       "    }\n",
       "\n",
       "    .dataframe thead th {\n",
       "        text-align: right;\n",
       "    }\n",
       "</style>\n",
       "<table border=\"1\" class=\"dataframe\">\n",
       "  <thead>\n",
       "    <tr style=\"text-align: right;\">\n",
       "      <th></th>\n",
       "      <th>Names</th>\n",
       "      <th>Hobbies</th>\n",
       "    </tr>\n",
       "  </thead>\n",
       "  <tbody>\n",
       "    <tr>\n",
       "      <th>0</th>\n",
       "      <td>Medha</td>\n",
       "      <td>Reading</td>\n",
       "    </tr>\n",
       "    <tr>\n",
       "      <th>1</th>\n",
       "      <td>Keerthana</td>\n",
       "      <td>Playing</td>\n",
       "    </tr>\n",
       "    <tr>\n",
       "      <th>2</th>\n",
       "      <td>Harshitha</td>\n",
       "      <td>Cooking</td>\n",
       "    </tr>\n",
       "    <tr>\n",
       "      <th>3</th>\n",
       "      <td>Karthik</td>\n",
       "      <td>Guitar</td>\n",
       "    </tr>\n",
       "    <tr>\n",
       "      <th>4</th>\n",
       "      <td>Bhanu</td>\n",
       "      <td>Coding</td>\n",
       "    </tr>\n",
       "    <tr>\n",
       "      <th>5</th>\n",
       "      <td>Mahesh</td>\n",
       "      <td>Dancing</td>\n",
       "    </tr>\n",
       "    <tr>\n",
       "      <th>6</th>\n",
       "      <td>Uma</td>\n",
       "      <td>Gym</td>\n",
       "    </tr>\n",
       "    <tr>\n",
       "      <th>7</th>\n",
       "      <td>Deepu</td>\n",
       "      <td>Cricket</td>\n",
       "    </tr>\n",
       "    <tr>\n",
       "      <th>8</th>\n",
       "      <td>Ricky</td>\n",
       "      <td>Singing</td>\n",
       "    </tr>\n",
       "  </tbody>\n",
       "</table>\n",
       "</div>"
      ],
      "text/plain": [
       "       Names  Hobbies\n",
       "0      Medha  Reading\n",
       "1  Keerthana  Playing\n",
       "2  Harshitha  Cooking\n",
       "3    Karthik   Guitar\n",
       "4      Bhanu   Coding\n",
       "5     Mahesh  Dancing\n",
       "6        Uma      Gym\n",
       "7      Deepu  Cricket\n",
       "8      Ricky  Singing"
      ]
     },
     "execution_count": 66,
     "metadata": {},
     "output_type": "execute_result"
    }
   ],
   "source": [
    "# 7. create a DataFrame using list\n",
    "df[['Names', 'Hobbies']]"
   ]
  },
  {
   "cell_type": "code",
   "execution_count": 68,
   "id": "d3df56f2-3687-4d92-89ef-9524f3562e3a",
   "metadata": {},
   "outputs": [],
   "source": [
    "# 8. write the DataFrame to a new CSV file saved in your folder for this course\n",
    "df.to_csv('/Users/medhareddy/Desktop/Interactive Data/Interactive_Data_Medha.csv', index=False)\n"
   ]
  },
  {
   "cell_type": "markdown",
   "id": "7c2f7f16-6410-437e-92f1-6d0c945cce85",
   "metadata": {},
   "source": [
    " **What does the \"write/render/evaluate\" loop provide for creators of interactive data visualizations?**\n",
    "\n",
    "*The \"write/render/evaluate\" loop facilitates rapid visualization experimentation. We can create the code, see the outcome right away, and then modify it according to the outcome of your observations. It is simpler to test out various concepts and make design adjustments without losing time thanks to this cycle. When you're creating and testing data visualizations, it's a great approach to quickly improve your work and receive immediate feedback.*"
   ]
  },
  {
   "cell_type": "markdown",
   "id": "01f9c855-a2bf-4c8e-b484-5785934212d0",
   "metadata": {},
   "source": [
    " **Why are dynamic, interactive data visualizations useful when communicating data?**\n",
    "\n",
    "*Interactive, dynamic visualizations are awesome because they allow the viewer to independently examine the facts. Users can zoom in, filter, and examine elements that are important to them in interactive visualizations, as compared to static ones that only provide one viewpoint. This facilitates various individuals' readings of the data. Interactive components are particularly good at conveying information because they make the experience more interesting and can help consumers better absorb complex data.*"
   ]
  },
  {
   "cell_type": "markdown",
   "id": "e58c89ab-7d81-497e-8eb4-0bd31de69816",
   "metadata": {},
   "source": [
    "**Do you agree with Murray's claim that open-source tools that avoid proprietary software are best for publishing data visualization? In a few sentences, explain why you do or do not agree.**\n",
    "\n",
    "*Yes, Murray makes a valid point. The advantage of open-source tools is that they facilitate more accessibility to your work. Regardless of the device or operating system being used, anyone with a web browser can watch your visualization when you use open-source tools. You don't have to be concerned about using costly software or about compatibility problems. Additionally, open-source tools promote community cooperation and advancements, increasing the diversity and accessibility of your work.*"
   ]
  }
 ],
 "metadata": {
  "kernelspec": {
   "display_name": "Python 3 (ipykernel)",
   "language": "python",
   "name": "python3"
  },
  "language_info": {
   "codemirror_mode": {
    "name": "ipython",
    "version": 3
   },
   "file_extension": ".py",
   "mimetype": "text/x-python",
   "name": "python",
   "nbconvert_exporter": "python",
   "pygments_lexer": "ipython3",
   "version": "3.12.8"
  }
 },
 "nbformat": 4,
 "nbformat_minor": 5
}
