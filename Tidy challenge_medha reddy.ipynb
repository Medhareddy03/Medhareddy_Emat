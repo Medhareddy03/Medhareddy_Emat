{
 "cells": [
  {
   "cell_type": "markdown",
   "id": "92309a85-cd48-46cc-a1cb-c14027f466b3",
   "metadata": {},
   "source": [
    "**Imported necessary packages and I used json package to read the given file.**"
   ]
  },
  {
   "cell_type": "code",
   "execution_count": 85,
   "id": "a5edb961-b66c-4181-bc04-3c66e47b1837",
   "metadata": {},
   "outputs": [],
   "source": [
    "import pandas as pd \n",
    "import json"
   ]
  },
  {
   "cell_type": "markdown",
   "id": "33fd9dd0-eafd-4cda-a86b-10cb5308fee4",
   "metadata": {},
   "source": [
    "**Loaded the chessbuds_message.json file.**"
   ]
  },
  {
   "cell_type": "code",
   "execution_count": 86,
   "id": "f2bc5b6e-4b5c-473f-bfda-d403144c6da7",
   "metadata": {},
   "outputs": [],
   "source": [
    "with open('chessbuds_messages.json') as m:\n",
    "          Message_Data = json.load(m)"
   ]
  },
  {
   "cell_type": "markdown",
   "id": "9e41f4eb-e91a-4faf-afe5-238cd1e3b945",
   "metadata": {},
   "source": [
    "**Here i was checking the structure of the data.**\n",
    "\n",
    "**I used type() to find the type of the data(dictionary) and checked the keys in the dictionary.**"
   ]
  },
  {
   "cell_type": "code",
   "execution_count": 87,
   "id": "3f9f5e60-f9f2-465a-8f1c-4c1b8071ceb7",
   "metadata": {},
   "outputs": [
    {
     "data": {
      "text/plain": [
       "dict"
      ]
     },
     "execution_count": 87,
     "metadata": {},
     "output_type": "execute_result"
    }
   ],
   "source": [
    "type(Message_Data)"
   ]
  },
  {
   "cell_type": "code",
   "execution_count": 88,
   "id": "8ad5ea1d-f2cd-4cdc-8d66-389f51d5ec8c",
   "metadata": {},
   "outputs": [
    {
     "data": {
      "text/plain": [
       "dict_keys(['participants', 'messages', 'title', 'is_still_participant', 'thread_type', 'thread_path', 'magic_words', 'joinable_mode'])"
      ]
     },
     "execution_count": 88,
     "metadata": {},
     "output_type": "execute_result"
    }
   ],
   "source": [
    "Message_Data.keys()"
   ]
  },
  {
   "cell_type": "markdown",
   "id": "67f6fc43-abab-4a2a-b31b-3343f82e6e0c",
   "metadata": {},
   "source": [
    "**The messages key contains a list of messages. Each message in the 'message_list' is a dictionary with columns named 'sender_name','timestamp_ms','photos','content' and etc.** "
   ]
  },
  {
   "cell_type": "code",
   "execution_count": 89,
   "id": "91a4a773-fc90-4d8d-8e82-271b7236d179",
   "metadata": {},
   "outputs": [],
   "source": [
    "messages_list = Message_Data[\"messages\"]"
   ]
  },
  {
   "cell_type": "code",
   "execution_count": 90,
   "id": "d3469cc7-b1eb-4428-8cc1-70fa6eaf8dec",
   "metadata": {},
   "outputs": [
    {
     "data": {
      "text/plain": [
       "list"
      ]
     },
     "execution_count": 90,
     "metadata": {},
     "output_type": "execute_result"
    }
   ],
   "source": [
    "type(messages_list)"
   ]
  },
  {
   "cell_type": "code",
   "execution_count": 91,
   "id": "6a39b097-b11e-4f5b-b6ef-fd2e34ae6038",
   "metadata": {},
   "outputs": [
    {
     "data": {
      "text/plain": [
       "223"
      ]
     },
     "execution_count": 91,
     "metadata": {},
     "output_type": "execute_result"
    }
   ],
   "source": [
    "len(messages_list)"
   ]
  },
  {
   "cell_type": "code",
   "execution_count": 92,
   "id": "a0c76c8b-3bba-4b38-9919-faa43c048750",
   "metadata": {},
   "outputs": [
    {
     "data": {
      "text/plain": [
       "{'sender_name': 'Scott Pence',\n",
       " 'timestamp_ms': 1664600936187,\n",
       " 'photos': [{'uri': 'messages/inbox/chessbuds_npjakt9u1g/photos/309451039_843705807070140_6749608054411448521_n_843705803736807.png',\n",
       "   'creation_timestamp': 1664600934}],\n",
       " 'type': 'Generic',\n",
       " 'is_unsent': False,\n",
       " 'is_taken_down': False,\n",
       " 'bumped_message_metadata': {'bumped_message': '', 'is_bumped': False}}"
      ]
     },
     "execution_count": 92,
     "metadata": {},
     "output_type": "execute_result"
    }
   ],
   "source": [
    "messages_list[10]"
   ]
  },
  {
   "cell_type": "markdown",
   "id": "c9eb1b28-e398-4502-b0ae-dd35a6d5a06b",
   "metadata": {},
   "source": [
    "**I converted the 'message list' into the dataframe and found the information present in the dateframe and dsipalyed first five columns of this dataframe using head() and info() functions.**"
   ]
  },
  {
   "cell_type": "code",
   "execution_count": 93,
   "id": "b37d246c-804f-41a3-9c75-f70718461b3f",
   "metadata": {},
   "outputs": [],
   "source": [
    "df = pd.DataFrame(messages_list)"
   ]
  },
  {
   "cell_type": "code",
   "execution_count": 94,
   "id": "c314b1c8-a695-403e-b9d0-af5b3c6b4a49",
   "metadata": {},
   "outputs": [
    {
     "data": {
      "text/plain": [
       "pandas.core.frame.DataFrame"
      ]
     },
     "execution_count": 94,
     "metadata": {},
     "output_type": "execute_result"
    }
   ],
   "source": [
    "type(df)"
   ]
  },
  {
   "cell_type": "code",
   "execution_count": 95,
   "id": "56b29805-fd1b-40d7-ab9a-63f5bf439c8b",
   "metadata": {},
   "outputs": [
    {
     "name": "stdout",
     "output_type": "stream",
     "text": [
      "<class 'pandas.core.frame.DataFrame'>\n",
      "RangeIndex: 223 entries, 0 to 222\n",
      "Data columns (total 12 columns):\n",
      " #   Column                   Non-Null Count  Dtype \n",
      "---  ------                   --------------  ----- \n",
      " 0   sender_name              223 non-null    object\n",
      " 1   timestamp_ms             223 non-null    int64 \n",
      " 2   content                  194 non-null    object\n",
      " 3   reactions                73 non-null     object\n",
      " 4   type                     223 non-null    object\n",
      " 5   is_unsent                223 non-null    bool  \n",
      " 6   is_taken_down            223 non-null    bool  \n",
      " 7   bumped_message_metadata  223 non-null    object\n",
      " 8   share                    20 non-null     object\n",
      " 9   photos                   14 non-null     object\n",
      " 10  gifs                     16 non-null     object\n",
      " 11  users                    4 non-null      object\n",
      "dtypes: bool(2), int64(1), object(9)\n",
      "memory usage: 18.0+ KB\n"
     ]
    }
   ],
   "source": [
    "df.info()"
   ]
  },
  {
   "cell_type": "code",
   "execution_count": 96,
   "id": "607ddac9-0642-434f-837a-5a3d88b2c8c2",
   "metadata": {},
   "outputs": [
    {
     "data": {
      "text/html": [
       "<div>\n",
       "<style scoped>\n",
       "    .dataframe tbody tr th:only-of-type {\n",
       "        vertical-align: middle;\n",
       "    }\n",
       "\n",
       "    .dataframe tbody tr th {\n",
       "        vertical-align: top;\n",
       "    }\n",
       "\n",
       "    .dataframe thead th {\n",
       "        text-align: right;\n",
       "    }\n",
       "</style>\n",
       "<table border=\"1\" class=\"dataframe\">\n",
       "  <thead>\n",
       "    <tr style=\"text-align: right;\">\n",
       "      <th></th>\n",
       "      <th>sender_name</th>\n",
       "      <th>timestamp_ms</th>\n",
       "      <th>content</th>\n",
       "      <th>reactions</th>\n",
       "      <th>type</th>\n",
       "      <th>is_unsent</th>\n",
       "      <th>is_taken_down</th>\n",
       "      <th>bumped_message_metadata</th>\n",
       "      <th>share</th>\n",
       "      <th>photos</th>\n",
       "      <th>gifs</th>\n",
       "      <th>users</th>\n",
       "    </tr>\n",
       "  </thead>\n",
       "  <tbody>\n",
       "    <tr>\n",
       "      <th>0</th>\n",
       "      <td>Joanna Rusch</td>\n",
       "      <td>1666374933946</td>\n",
       "      <td>Maybe he just wants to ride the publicity for ...</td>\n",
       "      <td>[{'reaction': 'ð', 'actor': 'Chad Larson'},...</td>\n",
       "      <td>Generic</td>\n",
       "      <td>False</td>\n",
       "      <td>False</td>\n",
       "      <td>{'bumped_message': 'Maybe he just wants to rid...</td>\n",
       "      <td>NaN</td>\n",
       "      <td>NaN</td>\n",
       "      <td>NaN</td>\n",
       "      <td>NaN</td>\n",
       "    </tr>\n",
       "    <tr>\n",
       "      <th>1</th>\n",
       "      <td>Chad Larson</td>\n",
       "      <td>1666373448613</td>\n",
       "      <td>To be fair to Hans....no one wants to be assoc...</td>\n",
       "      <td>[{'reaction': 'ð', 'actor': 'Scott Pence'},...</td>\n",
       "      <td>Generic</td>\n",
       "      <td>False</td>\n",
       "      <td>False</td>\n",
       "      <td>{'bumped_message': 'To be fair to Hans....no o...</td>\n",
       "      <td>NaN</td>\n",
       "      <td>NaN</td>\n",
       "      <td>NaN</td>\n",
       "      <td>NaN</td>\n",
       "    </tr>\n",
       "    <tr>\n",
       "      <th>2</th>\n",
       "      <td>Chad Larson</td>\n",
       "      <td>1666373216381</td>\n",
       "      <td>He would have to prove he didn't cheat and tha...</td>\n",
       "      <td>[{'reaction': 'ð', 'actor': 'Scott Pence'},...</td>\n",
       "      <td>Generic</td>\n",
       "      <td>False</td>\n",
       "      <td>False</td>\n",
       "      <td>{'bumped_message': 'He would have to prove he ...</td>\n",
       "      <td>NaN</td>\n",
       "      <td>NaN</td>\n",
       "      <td>NaN</td>\n",
       "      <td>NaN</td>\n",
       "    </tr>\n",
       "    <tr>\n",
       "      <th>3</th>\n",
       "      <td>Scott Pence</td>\n",
       "      <td>1666373164883</td>\n",
       "      <td>Yeah, no way. You over shoot and hope to get a...</td>\n",
       "      <td>[{'reaction': 'ð', 'actor': 'Chad Larson'},...</td>\n",
       "      <td>Generic</td>\n",
       "      <td>False</td>\n",
       "      <td>False</td>\n",
       "      <td>{'bumped_message': 'Yeah, no way. You over sho...</td>\n",
       "      <td>NaN</td>\n",
       "      <td>NaN</td>\n",
       "      <td>NaN</td>\n",
       "      <td>NaN</td>\n",
       "    </tr>\n",
       "    <tr>\n",
       "      <th>4</th>\n",
       "      <td>Chad Larson</td>\n",
       "      <td>1666373111157</td>\n",
       "      <td>From what I see, I don't think he could win.  ...</td>\n",
       "      <td>NaN</td>\n",
       "      <td>Generic</td>\n",
       "      <td>False</td>\n",
       "      <td>False</td>\n",
       "      <td>{'bumped_message': 'From what I see, I don't t...</td>\n",
       "      <td>NaN</td>\n",
       "      <td>NaN</td>\n",
       "      <td>NaN</td>\n",
       "      <td>NaN</td>\n",
       "    </tr>\n",
       "  </tbody>\n",
       "</table>\n",
       "</div>"
      ],
      "text/plain": [
       "    sender_name   timestamp_ms  \\\n",
       "0  Joanna Rusch  1666374933946   \n",
       "1   Chad Larson  1666373448613   \n",
       "2   Chad Larson  1666373216381   \n",
       "3   Scott Pence  1666373164883   \n",
       "4   Chad Larson  1666373111157   \n",
       "\n",
       "                                             content  \\\n",
       "0  Maybe he just wants to ride the publicity for ...   \n",
       "1  To be fair to Hans....no one wants to be assoc...   \n",
       "2  He would have to prove he didn't cheat and tha...   \n",
       "3  Yeah, no way. You over shoot and hope to get a...   \n",
       "4  From what I see, I don't think he could win.  ...   \n",
       "\n",
       "                                           reactions     type  is_unsent  \\\n",
       "0  [{'reaction': 'ð', 'actor': 'Chad Larson'},...  Generic      False   \n",
       "1  [{'reaction': 'ð', 'actor': 'Scott Pence'},...  Generic      False   \n",
       "2  [{'reaction': 'ð', 'actor': 'Scott Pence'},...  Generic      False   \n",
       "3  [{'reaction': 'ð', 'actor': 'Chad Larson'},...  Generic      False   \n",
       "4                                                NaN  Generic      False   \n",
       "\n",
       "   is_taken_down                            bumped_message_metadata share  \\\n",
       "0          False  {'bumped_message': 'Maybe he just wants to rid...   NaN   \n",
       "1          False  {'bumped_message': 'To be fair to Hans....no o...   NaN   \n",
       "2          False  {'bumped_message': 'He would have to prove he ...   NaN   \n",
       "3          False  {'bumped_message': 'Yeah, no way. You over sho...   NaN   \n",
       "4          False  {'bumped_message': 'From what I see, I don't t...   NaN   \n",
       "\n",
       "  photos gifs users  \n",
       "0    NaN  NaN   NaN  \n",
       "1    NaN  NaN   NaN  \n",
       "2    NaN  NaN   NaN  \n",
       "3    NaN  NaN   NaN  \n",
       "4    NaN  NaN   NaN  "
      ]
     },
     "execution_count": 96,
     "metadata": {},
     "output_type": "execute_result"
    }
   ],
   "source": [
    "df.head()"
   ]
  },
  {
   "cell_type": "markdown",
   "id": "903f059b-aebb-4b8a-8bd8-76682e296d1c",
   "metadata": {},
   "source": [
    "**3. Manipulate the resulting DataFrame so that it meets tidy data principles as outlined by Wickham (2014)**"
   ]
  },
  {
   "cell_type": "markdown",
   "id": "818e4c3d-773b-48a8-aacf-e6c6a56c8af7",
   "metadata": {},
   "source": [
    "*I felt 'timestamp_ms' is messy so I was making it tidy. I converted the 'timestamp_ms' column which is in milliseconds, in human readable format using pd.to_dataetime() in the new column named timestamp and i took reference from this website **https://pandas.pydata.org/pandas-docs/version/0.22/generated/pandas.Timestamp.to_datetime.html** for the syntax.*"
   ]
  },
  {
   "cell_type": "code",
   "execution_count": 97,
   "id": "6958ffb0-e110-4648-aa98-779a9db6bbcd",
   "metadata": {},
   "outputs": [],
   "source": [
    "df['timestamp'] = pd.to_datetime(df['timestamp_ms'])"
   ]
  },
  {
   "cell_type": "code",
   "execution_count": 98,
   "id": "c27c4e4b-ce06-4df1-b8d8-ff64abe0df5e",
   "metadata": {},
   "outputs": [
    {
     "data": {
      "text/html": [
       "<div>\n",
       "<style scoped>\n",
       "    .dataframe tbody tr th:only-of-type {\n",
       "        vertical-align: middle;\n",
       "    }\n",
       "\n",
       "    .dataframe tbody tr th {\n",
       "        vertical-align: top;\n",
       "    }\n",
       "\n",
       "    .dataframe thead th {\n",
       "        text-align: right;\n",
       "    }\n",
       "</style>\n",
       "<table border=\"1\" class=\"dataframe\">\n",
       "  <thead>\n",
       "    <tr style=\"text-align: right;\">\n",
       "      <th></th>\n",
       "      <th>sender_name</th>\n",
       "      <th>timestamp_ms</th>\n",
       "      <th>content</th>\n",
       "      <th>reactions</th>\n",
       "      <th>type</th>\n",
       "      <th>is_unsent</th>\n",
       "      <th>is_taken_down</th>\n",
       "      <th>bumped_message_metadata</th>\n",
       "      <th>share</th>\n",
       "      <th>photos</th>\n",
       "      <th>gifs</th>\n",
       "      <th>users</th>\n",
       "      <th>timestamp</th>\n",
       "    </tr>\n",
       "  </thead>\n",
       "  <tbody>\n",
       "    <tr>\n",
       "      <th>0</th>\n",
       "      <td>Joanna Rusch</td>\n",
       "      <td>1666374933946</td>\n",
       "      <td>Maybe he just wants to ride the publicity for ...</td>\n",
       "      <td>[{'reaction': 'ð', 'actor': 'Chad Larson'},...</td>\n",
       "      <td>Generic</td>\n",
       "      <td>False</td>\n",
       "      <td>False</td>\n",
       "      <td>{'bumped_message': 'Maybe he just wants to rid...</td>\n",
       "      <td>NaN</td>\n",
       "      <td>NaN</td>\n",
       "      <td>NaN</td>\n",
       "      <td>NaN</td>\n",
       "      <td>1970-01-01 00:27:46.374933946</td>\n",
       "    </tr>\n",
       "    <tr>\n",
       "      <th>1</th>\n",
       "      <td>Chad Larson</td>\n",
       "      <td>1666373448613</td>\n",
       "      <td>To be fair to Hans....no one wants to be assoc...</td>\n",
       "      <td>[{'reaction': 'ð', 'actor': 'Scott Pence'},...</td>\n",
       "      <td>Generic</td>\n",
       "      <td>False</td>\n",
       "      <td>False</td>\n",
       "      <td>{'bumped_message': 'To be fair to Hans....no o...</td>\n",
       "      <td>NaN</td>\n",
       "      <td>NaN</td>\n",
       "      <td>NaN</td>\n",
       "      <td>NaN</td>\n",
       "      <td>1970-01-01 00:27:46.373448613</td>\n",
       "    </tr>\n",
       "    <tr>\n",
       "      <th>2</th>\n",
       "      <td>Chad Larson</td>\n",
       "      <td>1666373216381</td>\n",
       "      <td>He would have to prove he didn't cheat and tha...</td>\n",
       "      <td>[{'reaction': 'ð', 'actor': 'Scott Pence'},...</td>\n",
       "      <td>Generic</td>\n",
       "      <td>False</td>\n",
       "      <td>False</td>\n",
       "      <td>{'bumped_message': 'He would have to prove he ...</td>\n",
       "      <td>NaN</td>\n",
       "      <td>NaN</td>\n",
       "      <td>NaN</td>\n",
       "      <td>NaN</td>\n",
       "      <td>1970-01-01 00:27:46.373216381</td>\n",
       "    </tr>\n",
       "    <tr>\n",
       "      <th>3</th>\n",
       "      <td>Scott Pence</td>\n",
       "      <td>1666373164883</td>\n",
       "      <td>Yeah, no way. You over shoot and hope to get a...</td>\n",
       "      <td>[{'reaction': 'ð', 'actor': 'Chad Larson'},...</td>\n",
       "      <td>Generic</td>\n",
       "      <td>False</td>\n",
       "      <td>False</td>\n",
       "      <td>{'bumped_message': 'Yeah, no way. You over sho...</td>\n",
       "      <td>NaN</td>\n",
       "      <td>NaN</td>\n",
       "      <td>NaN</td>\n",
       "      <td>NaN</td>\n",
       "      <td>1970-01-01 00:27:46.373164883</td>\n",
       "    </tr>\n",
       "    <tr>\n",
       "      <th>4</th>\n",
       "      <td>Chad Larson</td>\n",
       "      <td>1666373111157</td>\n",
       "      <td>From what I see, I don't think he could win.  ...</td>\n",
       "      <td>NaN</td>\n",
       "      <td>Generic</td>\n",
       "      <td>False</td>\n",
       "      <td>False</td>\n",
       "      <td>{'bumped_message': 'From what I see, I don't t...</td>\n",
       "      <td>NaN</td>\n",
       "      <td>NaN</td>\n",
       "      <td>NaN</td>\n",
       "      <td>NaN</td>\n",
       "      <td>1970-01-01 00:27:46.373111157</td>\n",
       "    </tr>\n",
       "  </tbody>\n",
       "</table>\n",
       "</div>"
      ],
      "text/plain": [
       "    sender_name   timestamp_ms  \\\n",
       "0  Joanna Rusch  1666374933946   \n",
       "1   Chad Larson  1666373448613   \n",
       "2   Chad Larson  1666373216381   \n",
       "3   Scott Pence  1666373164883   \n",
       "4   Chad Larson  1666373111157   \n",
       "\n",
       "                                             content  \\\n",
       "0  Maybe he just wants to ride the publicity for ...   \n",
       "1  To be fair to Hans....no one wants to be assoc...   \n",
       "2  He would have to prove he didn't cheat and tha...   \n",
       "3  Yeah, no way. You over shoot and hope to get a...   \n",
       "4  From what I see, I don't think he could win.  ...   \n",
       "\n",
       "                                           reactions     type  is_unsent  \\\n",
       "0  [{'reaction': 'ð', 'actor': 'Chad Larson'},...  Generic      False   \n",
       "1  [{'reaction': 'ð', 'actor': 'Scott Pence'},...  Generic      False   \n",
       "2  [{'reaction': 'ð', 'actor': 'Scott Pence'},...  Generic      False   \n",
       "3  [{'reaction': 'ð', 'actor': 'Chad Larson'},...  Generic      False   \n",
       "4                                                NaN  Generic      False   \n",
       "\n",
       "   is_taken_down                            bumped_message_metadata share  \\\n",
       "0          False  {'bumped_message': 'Maybe he just wants to rid...   NaN   \n",
       "1          False  {'bumped_message': 'To be fair to Hans....no o...   NaN   \n",
       "2          False  {'bumped_message': 'He would have to prove he ...   NaN   \n",
       "3          False  {'bumped_message': 'Yeah, no way. You over sho...   NaN   \n",
       "4          False  {'bumped_message': 'From what I see, I don't t...   NaN   \n",
       "\n",
       "  photos gifs users                     timestamp  \n",
       "0    NaN  NaN   NaN 1970-01-01 00:27:46.374933946  \n",
       "1    NaN  NaN   NaN 1970-01-01 00:27:46.373448613  \n",
       "2    NaN  NaN   NaN 1970-01-01 00:27:46.373216381  \n",
       "3    NaN  NaN   NaN 1970-01-01 00:27:46.373164883  \n",
       "4    NaN  NaN   NaN 1970-01-01 00:27:46.373111157  "
      ]
     },
     "execution_count": 98,
     "metadata": {},
     "output_type": "execute_result"
    }
   ],
   "source": [
    "df.head()"
   ]
  },
  {
   "cell_type": "markdown",
   "id": "aedda7f4-39cc-47f8-8b62-f3dc8f5b7e4b",
   "metadata": {},
   "source": [
    "**I used melt() function to reshape the dateframe 'df_2' which has 'sender_name','timestamp_ms'and 'content'.**"
   ]
  },
  {
   "cell_type": "code",
   "execution_count": 102,
   "id": "f94d326f-1a88-4408-b19b-2a2eb721bd0c",
   "metadata": {},
   "outputs": [],
   "source": [
    "df_2 = df.melt(id_vars=['sender_name', 'timestamp_ms'], var_name='attribute', value_name='value')"
   ]
  },
  {
   "cell_type": "code",
   "execution_count": 103,
   "id": "f83fc3de-19f3-4545-985c-a13b12051938",
   "metadata": {},
   "outputs": [
    {
     "data": {
      "text/html": [
       "<div>\n",
       "<style scoped>\n",
       "    .dataframe tbody tr th:only-of-type {\n",
       "        vertical-align: middle;\n",
       "    }\n",
       "\n",
       "    .dataframe tbody tr th {\n",
       "        vertical-align: top;\n",
       "    }\n",
       "\n",
       "    .dataframe thead th {\n",
       "        text-align: right;\n",
       "    }\n",
       "</style>\n",
       "<table border=\"1\" class=\"dataframe\">\n",
       "  <thead>\n",
       "    <tr style=\"text-align: right;\">\n",
       "      <th></th>\n",
       "      <th>sender_name</th>\n",
       "      <th>timestamp_ms</th>\n",
       "      <th>attribute</th>\n",
       "      <th>value</th>\n",
       "    </tr>\n",
       "  </thead>\n",
       "  <tbody>\n",
       "    <tr>\n",
       "      <th>0</th>\n",
       "      <td>Joanna Rusch</td>\n",
       "      <td>1666374933946</td>\n",
       "      <td>content</td>\n",
       "      <td>Maybe he just wants to ride the publicity for ...</td>\n",
       "    </tr>\n",
       "    <tr>\n",
       "      <th>1</th>\n",
       "      <td>Chad Larson</td>\n",
       "      <td>1666373448613</td>\n",
       "      <td>content</td>\n",
       "      <td>To be fair to Hans....no one wants to be assoc...</td>\n",
       "    </tr>\n",
       "    <tr>\n",
       "      <th>2</th>\n",
       "      <td>Chad Larson</td>\n",
       "      <td>1666373216381</td>\n",
       "      <td>content</td>\n",
       "      <td>He would have to prove he didn't cheat and tha...</td>\n",
       "    </tr>\n",
       "    <tr>\n",
       "      <th>3</th>\n",
       "      <td>Scott Pence</td>\n",
       "      <td>1666373164883</td>\n",
       "      <td>content</td>\n",
       "      <td>Yeah, no way. You over shoot and hope to get a...</td>\n",
       "    </tr>\n",
       "    <tr>\n",
       "      <th>4</th>\n",
       "      <td>Chad Larson</td>\n",
       "      <td>1666373111157</td>\n",
       "      <td>content</td>\n",
       "      <td>From what I see, I don't think he could win.  ...</td>\n",
       "    </tr>\n",
       "  </tbody>\n",
       "</table>\n",
       "</div>"
      ],
      "text/plain": [
       "    sender_name   timestamp_ms attribute  \\\n",
       "0  Joanna Rusch  1666374933946   content   \n",
       "1   Chad Larson  1666373448613   content   \n",
       "2   Chad Larson  1666373216381   content   \n",
       "3   Scott Pence  1666373164883   content   \n",
       "4   Chad Larson  1666373111157   content   \n",
       "\n",
       "                                               value  \n",
       "0  Maybe he just wants to ride the publicity for ...  \n",
       "1  To be fair to Hans....no one wants to be assoc...  \n",
       "2  He would have to prove he didn't cheat and tha...  \n",
       "3  Yeah, no way. You over shoot and hope to get a...  \n",
       "4  From what I see, I don't think he could win.  ...  "
      ]
     },
     "execution_count": 103,
     "metadata": {},
     "output_type": "execute_result"
    }
   ],
   "source": [
    "df_2.head()"
   ]
  },
  {
   "cell_type": "markdown",
   "id": "7fd1a9d9-9d2f-499f-9c56-5bdd019db78d",
   "metadata": {},
   "source": [
    "**i created a new column, 'content_new', where the content of the message is treated as a string for formnatting purposes and took reference from the link: *https://pandas.pydata.org/docs/reference/api/pandas.DataFrame.astype.html* for syntax.**"
   ]
  },
  {
   "cell_type": "code",
   "execution_count": 101,
   "id": "7c6777c8-9406-47e3-ac48-1f579bbd96ed",
   "metadata": {},
   "outputs": [],
   "source": [
    "df['content_new'] = df['content'].astype(str)"
   ]
  },
  {
   "cell_type": "markdown",
   "id": "9cd8995f-0d5c-4c72-8f15-b422d64ad1a6",
   "metadata": {},
   "source": [
    "df.head()"
   ]
  },
  {
   "cell_type": "markdown",
   "id": "eb8bf24d-6804-471c-9314-0023af6d2e66",
   "metadata": {},
   "source": [
    "**It finds out the content of the message present in the index 4.**"
   ]
  },
  {
   "cell_type": "code",
   "execution_count": 82,
   "id": "db1ecfb8-fb2b-407d-973c-b083afb8a347",
   "metadata": {},
   "outputs": [
    {
     "data": {
      "text/plain": [
       "\"From what I see, I don't think he could win.  But he is probably hoping for a good sized settlement\""
      ]
     },
     "execution_count": 82,
     "metadata": {},
     "output_type": "execute_result"
    }
   ],
   "source": [
    "df['content'].iloc[4]"
   ]
  },
  {
   "cell_type": "markdown",
   "id": "a23eb86d-d503-4785-b58e-dcbd7cea8b90",
   "metadata": {},
   "source": [
    "**4. What have I set the row-level (observation) to represent and what have I set each column to represent?**"
   ]
  },
  {
   "cell_type": "markdown",
   "id": "6003a83c-7841-42a3-8842-0d090836220f",
   "metadata": {},
   "source": [
    "*I set the row-level (observation) to represent a single message in the conversation, meaning each row corresponds to one message.*\n",
    "*Each column represents different aspects of that message:*\n",
    "\n",
    "- *sender_name: The name of the person who sent the message.*\n",
    "- *timestamp_ms: The timestamp of the message in milliseconds.*\n",
    "- *content_new: The message text, stored as a string.*\n",
    "- *attribute: The type of data (e.g., message content, sender name, etc.).*\n",
    "- *value: The corresponding value for each attribute.*\n",
    "*The use of melt() has reshaped the DataFrame, combines different types of data into the attribute and value columns.*"
   ]
  },
  {
   "cell_type": "markdown",
   "id": "0a41bd3f-8755-465c-a4e7-c241d4c36f34",
   "metadata": {},
   "source": [
    "**5. Why does the final DataFrame meet tidy data principles and how could it be improved?**"
   ]
  },
  {
   "cell_type": "markdown",
   "id": "c23d25b3-328b-4c09-beec-bd0c66b9da8c",
   "metadata": {},
   "source": [
    "*My final DataFrame almost meets the tidy data principles but could still be improved in a few areas:\n",
    "Meets Tidy Data Principles:\n",
    "One variable per column: The columns represent different variables such as sender_name, timestamp_ms, and content_new. These are all separate variables and are appropriately placed in their own columns.\n",
    "One observation per row: Each row represents an individual message, capturing the sender, timestamp, and content (or other message attributes in reshaped format).\n",
    "No missing values: I’ve ensured that the DataFrame does not have missing values in critical columns like content_new, and each message is represented by a complete set of attributes.*\n",
    "\n",
    "**Improvements**\n",
    "*To improve my DataFrame, I need to remove unnecessary attributes like photos and GIFs during the melt() step, keeping only message text to ensure a cleaner dataset. Additionally, I need to separate metadata from message content by storing sender names and timestamps in a different table. This will help me organize the data better and make it more efficient for analysis.*"
   ]
  },
  {
   "cell_type": "markdown",
   "id": "32f0057a-3b6f-41c3-85f3-a8ac5dab5642",
   "metadata": {},
   "source": [
    "**What are (if any) alternative, tidy formats that would also be acceptable for this data?**"
   ]
  },
  {
   "cell_type": "markdown",
   "id": "6c56b504-38e9-466c-9fea-bdd7a2f898a4",
   "metadata": {},
   "source": [
    "*For alternative formats, I need to split messages and metadata into separate tables to improve structure. I could also group messages by time intervals, like hourly or daily, to make time-based analysis easier. Another thing I can do is add a column for message length, so I can track trends in message size over time.*"
   ]
  },
  {
   "cell_type": "markdown",
   "id": "c7fa39e7-e44d-4016-925f-8cf28cc039a9",
   "metadata": {},
   "source": [
    "**A potential visualization**"
   ]
  },
  {
   "cell_type": "markdown",
   "id": "66c669da-159b-4949-b72e-261e673f38d3",
   "metadata": {},
   "source": [
    "*A time-series plot would be good for this chessbuds data. The x-axis would represent the timestamp, converted into readable intervals (like hourly or daily), while the y-axis would show the number of messages sent within each interval, calculated by counting the messages in each time group. By plotting the timestamp (timestamp_ms) and the number of messages for each time interval, we can visualize trends in messaging activity. This will help identify peak periods, message frequency, and patterns over time, providing valuable insights into when and how often messages are being sent.*"
   ]
  }
 ],
 "metadata": {
  "kernelspec": {
   "display_name": "Python 3 (ipykernel)",
   "language": "python",
   "name": "python3"
  },
  "language_info": {
   "codemirror_mode": {
    "name": "ipython",
    "version": 3
   },
   "file_extension": ".py",
   "mimetype": "text/x-python",
   "name": "python",
   "nbconvert_exporter": "python",
   "pygments_lexer": "ipython3",
   "version": "3.12.8"
  }
 },
 "nbformat": 4,
 "nbformat_minor": 5
}
